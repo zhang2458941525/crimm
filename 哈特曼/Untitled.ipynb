{
 "cells": [
  {
   "cell_type": "code",
   "execution_count": 1,
   "id": "cf04b06b-16a7-4e78-b338-55ce350441a5",
   "metadata": {},
   "outputs": [
    {
     "name": "stdout",
     "output_type": "stream",
     "text": [
      "tensor([[ 900.,   60.,  120.,   50.,  750.,  800.,   45.,   40.,   80.,   20.],\n",
      "        [ 900.,   30.,   60.,    0., 1500.,  800.,   50.,   80.,  160.,   60.],\n",
      "        [ 300.,    0.,   60.,   25.,  375.,  400.,   55.,   80.,   80.,   80.],\n",
      "        [1200.,  120.,    0.,   50.,  750.,  200.,   40.,  160.,   40.,   40.],\n",
      "        [ 600.,    0.,    0.,   50., 1125.,  400.,   60.,   80.,   80.,   60.]],\n",
      "       dtype=torch.float64)\n"
     ]
    }
   ],
   "source": [
    "import torch\n",
    "import random\n",
    "\n",
    "def generate_random_samples(dim_ranges, num_samples=1):\n",
    "    samples = []\n",
    "    \n",
    "    for _ in range(num_samples):\n",
    "        point = []\n",
    "        for lower, upper in dim_ranges:\n",
    "            # 将区间四等分\n",
    "            step = (upper - lower) / 4\n",
    "            candidate_values = [lower + i * step for i in range(5)]  # 四等分包含端点\n",
    "            \n",
    "            # 随机选择一个候选值\n",
    "            selected_value = random.choice(candidate_values)\n",
    "            point.append(selected_value)\n",
    "        \n",
    "        samples.append(point)\n",
    "    \n",
    "    # 转换为 Tensor 格式\n",
    "    return torch.tensor(samples, dtype=torch.double)\n",
    "\n",
    "# 设置每个维度的上下界\n",
    "dim_ranges = [\n",
    "    (0, 1200),    # 第1维度范围\n",
    "    (0, 120),     # 第2维度范围\n",
    "    (0, 120),     # 第3维度范围\n",
    "    (0, 50),      # 第4维度范围\n",
    "    (0, 1500),    # 第5维度范围\n",
    "    (0, 800),     # 第6维度范围\n",
    "    (40, 60),     # 第7维度范围\n",
    "    (0, 160),     # 第8维度范围\n",
    "    (0, 160),     # 第9维度范围\n",
    "    (0, 80)       # 第10维度范围\n",
    "]\n",
    "\n",
    "# 生成样本\n",
    "num_samples = 5  # 想生成的样本数量\n",
    "samples = generate_random_samples(dim_ranges, num_samples)\n",
    "print(samples)"
   ]
  },
  {
   "cell_type": "code",
   "execution_count": null,
   "id": "fa48a13d-c8ef-40c1-ad0e-6b341872bb7b",
   "metadata": {},
   "outputs": [],
   "source": []
  }
 ],
 "metadata": {
  "kernelspec": {
   "display_name": "Python 3 (ipykernel)",
   "language": "python",
   "name": "python3"
  },
  "language_info": {
   "codemirror_mode": {
    "name": "ipython",
    "version": 3
   },
   "file_extension": ".py",
   "mimetype": "text/x-python",
   "name": "python",
   "nbconvert_exporter": "python",
   "pygments_lexer": "ipython3",
   "version": "3.11.7"
  }
 },
 "nbformat": 4,
 "nbformat_minor": 5
}
